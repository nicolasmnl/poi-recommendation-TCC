{
 "cells": [
  {
   "cell_type": "code",
   "execution_count": 13,
   "metadata": {},
   "outputs": [],
   "source": [
    "from gensim.models import Word2Vec"
   ]
  },
  {
   "cell_type": "code",
   "execution_count": 14,
   "metadata": {},
   "outputs": [],
   "source": [
    "word2vec = Word2Vec.load('./geo2vec_embeddings/austin-sl-tuple-n-itdl-0bin-wgt1.0-p.model')"
   ]
  },
  {
   "cell_type": "code",
   "execution_count": 15,
   "metadata": {},
   "outputs": [
    {
     "data": {
      "text/plain": [
       "0.82236105"
      ]
     },
     "execution_count": 15,
     "metadata": {},
     "output_type": "execute_result"
    }
   ],
   "source": [
    "word2vec.wv.similarity(\"Pizza\", \"Food\")"
   ]
  },
  {
   "cell_type": "code",
   "execution_count": 16,
   "metadata": {},
   "outputs": [
    {
     "data": {
      "text/plain": [
       "[('Restaurants', 0.8842081427574158),\n",
       " ('Sandwiches', 0.8662139773368835),\n",
       " ('Salad', 0.8313831686973572),\n",
       " ('Burgers', 0.8295998573303223),\n",
       " ('Food', 0.8223610520362854),\n",
       " ('Breakfast & Brunch', 0.8210118412971497),\n",
       " ('American (Traditional)', 0.8154963850975037),\n",
       " ('Mexican', 0.804690420627594),\n",
       " ('Beer, Wine & Spirits', 0.7996229529380798),\n",
       " ('Italian', 0.7987411618232727)]"
      ]
     },
     "execution_count": 16,
     "metadata": {},
     "output_type": "execute_result"
    }
   ],
   "source": [
    "word2vec.wv.most_similar(\"Pizza\")"
   ]
  },
  {
   "cell_type": "code",
   "execution_count": 17,
   "metadata": {},
   "outputs": [
    {
     "data": {
      "text/plain": [
       "[('Food', 0.9096315503120422),\n",
       " ('Sandwiches', 0.8943723440170288),\n",
       " ('Breakfast & Brunch', 0.8914317488670349),\n",
       " ('Pizza', 0.8842081427574158),\n",
       " ('American (Traditional)', 0.8671202063560486),\n",
       " ('Burgers', 0.8660482168197632),\n",
       " ('Coffee & Tea', 0.8658769130706787),\n",
       " ('Mexican', 0.8495666980743408),\n",
       " ('Asian Fusion', 0.8472176194190979),\n",
       " ('American (New)', 0.8461595773696899)]"
      ]
     },
     "execution_count": 17,
     "metadata": {},
     "output_type": "execute_result"
    }
   ],
   "source": [
    "word2vec.wv.most_similar(\"Restaurants\")"
   ]
  },
  {
   "cell_type": "code",
   "execution_count": 18,
   "metadata": {},
   "outputs": [
    {
     "data": {
      "text/plain": [
       "[('Eyelash Service', 0.7490875124931335),\n",
       " ('Hair Removal', 0.7277828454971313),\n",
       " ('Permanent Makeup', 0.70015549659729),\n",
       " ('Hair Extensions', 0.6989892721176147),\n",
       " ('Blow Dry/Out Services', 0.6948253512382507),\n",
       " ('Skin Care', 0.6941344738006592),\n",
       " ('Waxing', 0.68761146068573),\n",
       " ('Beauty & Spas', 0.6710526347160339),\n",
       " ('Makeup Artists', 0.6686090230941772),\n",
       " ('Hair Salons', 0.6633630990982056)]"
      ]
     },
     "execution_count": 18,
     "metadata": {},
     "output_type": "execute_result"
    }
   ],
   "source": [
    "word2vec.wv.most_similar(\"Eyebrow Services\")"
   ]
  },
  {
   "cell_type": "code",
   "execution_count": null,
   "metadata": {},
   "outputs": [],
   "source": []
  }
 ],
 "metadata": {
  "kernelspec": {
   "display_name": "tcc",
   "language": "python",
   "name": "python3"
  },
  "language_info": {
   "codemirror_mode": {
    "name": "ipython",
    "version": 3
   },
   "file_extension": ".py",
   "mimetype": "text/x-python",
   "name": "python",
   "nbconvert_exporter": "python",
   "pygments_lexer": "ipython3",
   "version": "3.10.13"
  }
 },
 "nbformat": 4,
 "nbformat_minor": 2
}
